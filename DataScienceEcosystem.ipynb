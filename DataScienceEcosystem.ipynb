{
 "cells": [
  {
   "cell_type": "markdown",
   "id": "4d42b73e",
   "metadata": {},
   "source": [
    "# DataScience Tools and Ecosystem"
   ]
  },
  {
   "cell_type": "markdown",
   "id": "b40127a8",
   "metadata": {},
   "source": [
    "in this notebook, Data science tools and Ecosystem are summarized (or any introductory sentence)\n",
    "\n",
    "__objective__\n",
    "* List popular languages for Data Science\n",
    "* List popular libraries for Data Science\n",
    "* List of well known Data science Tools\n",
    "* How to provide comments in the cell"
   ]
  },
  {
   "cell_type": "markdown",
   "id": "81416319",
   "metadata": {},
   "source": [
    "some of the commonly used liberaries used by data scientists are listed bellow :\n",
    "1. python\n",
    "2. C++\n",
    "3. SQL\n",
    "4. R language\n",
    "5. Java and etc...;"
   ]
  },
  {
   "cell_type": "markdown",
   "id": "8664ebde",
   "metadata": {},
   "source": [
    "some of the commonly used libraries used by data scientists are :\n",
    "\n",
    "1. Numpy\n",
    "2. Pandas\n",
    "3. Tensorflow\n",
    "4. sikit learn\n",
    "5. Pytorch\n",
    "    "
   ]
  },
  {
   "cell_type": "markdown",
   "id": "b7ed141e",
   "metadata": {},
   "source": [
    "|Data Science tools|\n",
    "|---|\n",
    "|SAS|\n",
    "|Apache Hadoop|\n",
    "|Tensorflow|"
   ]
  },
  {
   "cell_type": "markdown",
   "id": "3f0774ee",
   "metadata": {},
   "source": [
    "### Below are a few examples of evaluating arithmetic expressions in python\n"
   ]
  },
  {
   "cell_type": "code",
   "execution_count": 9,
   "id": "b94ebb79",
   "metadata": {},
   "outputs": [
    {
     "data": {
      "text/plain": [
       "17"
      ]
     },
     "execution_count": 9,
     "metadata": {},
     "output_type": "execute_result"
    }
   ],
   "source": [
    "#This is a simple arithmetic expression to multiply then add integers\n",
    "(3*4)+5"
   ]
  },
  {
   "cell_type": "code",
   "execution_count": 10,
   "id": "53b76561",
   "metadata": {},
   "outputs": [
    {
     "data": {
      "text/plain": [
       "3.3333333333333335"
      ]
     },
     "execution_count": 10,
     "metadata": {},
     "output_type": "execute_result"
    }
   ],
   "source": [
    "#This will convert 200 minutes to hours by diving by 60\n",
    "200/60"
   ]
  },
  {
   "cell_type": "markdown",
   "id": "14072102",
   "metadata": {},
   "source": [
    "## Author\n",
    "yahya jalali"
   ]
  },
  {
   "cell_type": "code",
   "execution_count": null,
   "id": "b45af28c",
   "metadata": {},
   "outputs": [],
   "source": []
  }
 ],
 "metadata": {
  "kernelspec": {
   "display_name": "Python 3 (ipykernel)",
   "language": "python",
   "name": "python3"
  },
  "language_info": {
   "codemirror_mode": {
    "name": "ipython",
    "version": 3
   },
   "file_extension": ".py",
   "mimetype": "text/x-python",
   "name": "python",
   "nbconvert_exporter": "python",
   "pygments_lexer": "ipython3",
   "version": "3.11.5"
  }
 },
 "nbformat": 4,
 "nbformat_minor": 5
}
